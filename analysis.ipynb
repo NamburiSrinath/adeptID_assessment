{
 "cells": [
  {
   "cell_type": "code",
   "execution_count": 19,
   "metadata": {},
   "outputs": [],
   "source": [
    "import pandas as pd\n",
    "import ast\n",
    "# Load training and testing data\n",
    "train_data = pd.read_csv('data/train_data.csv')\n",
    "test_data = pd.read_csv('data/test_data.csv')"
   ]
  },
  {
   "cell_type": "code",
   "execution_count": 2,
   "metadata": {},
   "outputs": [
    {
     "data": {
      "text/plain": [
       "Index(['ID', 'POSTED', 'TITLE_RAW', 'BODY', 'ONET_NAME', 'ONET'], dtype='object')"
      ]
     },
     "execution_count": 2,
     "metadata": {},
     "output_type": "execute_result"
    }
   ],
   "source": [
    "train_data.columns"
   ]
  },
  {
   "cell_type": "code",
   "execution_count": 7,
   "metadata": {},
   "outputs": [
    {
     "data": {
      "text/plain": [
       "(17927, 6)"
      ]
     },
     "execution_count": 7,
     "metadata": {},
     "output_type": "execute_result"
    }
   ],
   "source": [
    "train_data.shape"
   ]
  },
  {
   "cell_type": "code",
   "execution_count": 5,
   "metadata": {},
   "outputs": [
    {
     "data": {
      "text/plain": [
       "699"
      ]
     },
     "execution_count": 5,
     "metadata": {},
     "output_type": "execute_result"
    }
   ],
   "source": [
    "unique_onets = train_data['ONET'].unique()\n",
    "len(unique_onets)"
   ]
  },
  {
   "cell_type": "code",
   "execution_count": 22,
   "metadata": {},
   "outputs": [
    {
     "data": {
      "text/plain": [
       "array(['Meeting, Convention, and Event Planners',\n",
       "       'Occupational Therapy Aides', 'Office Clerks, General',\n",
       "       'Secretaries and Administrative Assistants, Except Legal, Medical, and Executive',\n",
       "       'Financial Managers', 'General and Operations Managers',\n",
       "       'Fast Food and Counter Workers', 'Waiters and Waitresses',\n",
       "       'Laborers and Freight, Stock, and Material Movers, Hand',\n",
       "       'Butchers and Meat Cutters'], dtype=object)"
      ]
     },
     "execution_count": 22,
     "metadata": {},
     "output_type": "execute_result"
    }
   ],
   "source": [
    "unique_onet_name = train_data['ONET_NAME'].unique()\n",
    "len(unique_onet_name)\n",
    "unique_onet_name[0:10]"
   ]
  },
  {
   "cell_type": "code",
   "execution_count": 8,
   "metadata": {},
   "outputs": [
    {
     "data": {
      "text/plain": [
       "17927"
      ]
     },
     "execution_count": 8,
     "metadata": {},
     "output_type": "execute_result"
    }
   ],
   "source": [
    "unique_id = train_data['ID'].unique()\n",
    "len(unique_id)"
   ]
  },
  {
   "cell_type": "code",
   "execution_count": 10,
   "metadata": {},
   "outputs": [
    {
     "data": {
      "text/plain": [
       "array(['2023-05-03', '2023-05-04', '2023-05-16', '2023-01-19'],\n",
       "      dtype=object)"
      ]
     },
     "execution_count": 10,
     "metadata": {},
     "output_type": "execute_result"
    }
   ],
   "source": [
    "unique_posted = train_data['POSTED'].unique()\n",
    "len(unique_posted)\n",
    "unique_posted"
   ]
  },
  {
   "cell_type": "code",
   "execution_count": 14,
   "metadata": {},
   "outputs": [
    {
     "data": {
      "text/plain": [
       "array(['Executive Meeting Manager',\n",
       "       'Rehabilitation Technician-Outpatient Rehab-Flex Days (up to 40 hrs per week)',\n",
       "       'Office/Bookkeeping Assistant',\n",
       "       'Administrative Support Coordinator - VA - (REMOTE)',\n",
       "       'Receptionist/Administrative Assistant',\n",
       "       'Outsourced Accounting Manager', 'Product Owner',\n",
       "       'Extended Coverage Team Specialist', 'Server/Waitstaff',\n",
       "       'Stockroom Associate'], dtype=object)"
      ]
     },
     "execution_count": 14,
     "metadata": {},
     "output_type": "execute_result"
    }
   ],
   "source": [
    "unique_title = train_data['TITLE_RAW'].unique()\n",
    "len(unique_title)\n",
    "unique_title[0:10]"
   ]
  },
  {
   "cell_type": "code",
   "execution_count": 21,
   "metadata": {},
   "outputs": [
    {
     "data": {
      "text/plain": [
       "17875"
      ]
     },
     "execution_count": 21,
     "metadata": {},
     "output_type": "execute_result"
    }
   ],
   "source": [
    "unique_body = train_data['BODY'].unique()\n",
    "len(unique_body)"
   ]
  },
  {
   "cell_type": "code",
   "execution_count": 17,
   "metadata": {},
   "outputs": [
    {
     "data": {
      "text/plain": [
       "\"['Software Developers', 'Engineering Technologists and Technicians, Except Drafters, All Other', 'Engineers, All Other', 'Industrial Engineers', 'Web Developers', 'Sales Engineers', 'Computer Systems Engineers/Architects', 'Industrial Engineering Technologists and Technicians', 'Information Security Engineers', 'Electrical and Electronic Engineering Technologists and Technicians']\""
      ]
     },
     "execution_count": 17,
     "metadata": {},
     "output_type": "execute_result"
    }
   ],
   "source": [
    "predictions = pd.read_csv('predictions.csv')\n",
    "df = predictions[['ID', 'TITLE_RAW', 'ONET_NAME', 'Predictions']]\n",
    "df.iloc[2]['Predictions']"
   ]
  }
 ],
 "metadata": {
  "kernelspec": {
   "display_name": "Python 3.8.10 64-bit",
   "language": "python",
   "name": "python3"
  },
  "language_info": {
   "codemirror_mode": {
    "name": "ipython",
    "version": 3
   },
   "file_extension": ".py",
   "mimetype": "text/x-python",
   "name": "python",
   "nbconvert_exporter": "python",
   "pygments_lexer": "ipython3",
   "version": "3.8.10"
  },
  "orig_nbformat": 4,
  "vscode": {
   "interpreter": {
    "hash": "31f2aee4e71d21fbe5cf8b01ff0e069b9275f58929596ceb00d14d90e3e16cd6"
   }
  }
 },
 "nbformat": 4,
 "nbformat_minor": 2
}
